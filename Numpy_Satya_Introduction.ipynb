{
  "nbformat": 4,
  "nbformat_minor": 0,
  "metadata": {
    "colab": {
      "name": "Numpy_Satya : Introduction.ipynb",
      "provenance": [],
      "collapsed_sections": []
    },
    "kernelspec": {
      "name": "python3",
      "display_name": "Python 3"
    }
  },
  "cells": [
    {
      "cell_type": "markdown",
      "metadata": {
        "id": "s6odsFbLpgIh",
        "colab_type": "text"
      },
      "source": [
        "# Numpy : Introduction\n",
        "\n",
        "**Numpy te permet de manipuler des données sous forme de tableau, ou array in english.**\n",
        "\n",
        "**Réalise les missions ci-dessous avec Numpy.**"
      ]
    },
    {
      "cell_type": "code",
      "metadata": {
        "id": "sXzBVR4imVvO",
        "colab_type": "code",
        "outputId": "b2aa7a93-c31e-43b4-8c6a-c44e72a2612d",
        "colab": {
          "base_uri": "https://localhost:8080/",
          "height": 34
        }
      },
      "source": [
        "# Mission 1 : Afficher la version de Numpy\n",
        "import numpy as np\n",
        "import random\n",
        "np.__version__"
      ],
      "execution_count": 0,
      "outputs": [
        {
          "output_type": "execute_result",
          "data": {
            "text/plain": [
              "'1.16.5'"
            ]
          },
          "metadata": {
            "tags": []
          },
          "execution_count": 4
        }
      ]
    },
    {
      "cell_type": "code",
      "metadata": {
        "id": "vQGzQgU-phGc",
        "colab_type": "code",
        "outputId": "0acb7158-455b-4b7f-ef0a-5efa54ab78a9",
        "colab": {
          "base_uri": "https://localhost:8080/",
          "height": 34
        }
      },
      "source": [
        "# Mission 2 : Créer un array Numpy de longueur 3, remplit de float qui valent 0.x, x pouvant prendre n'importe quel valeur\n",
        "my_array = np.random.random_sample(3)\n",
        "my_array"
      ],
      "execution_count": 0,
      "outputs": [
        {
          "output_type": "execute_result",
          "data": {
            "text/plain": [
              "array([0.05949261, 0.82539101, 0.82445138])"
            ]
          },
          "metadata": {
            "tags": []
          },
          "execution_count": 31
        }
      ]
    },
    {
      "cell_type": "code",
      "metadata": {
        "id": "66-o1bXYqPC_",
        "colab_type": "code",
        "outputId": "1780eef3-d686-4ff2-8c45-88cf9a8671ed",
        "colab": {
          "base_uri": "https://localhost:8080/",
          "height": 50
        }
      },
      "source": [
        "# Mission 3 : Créer une fonction qui avec la méthode random.random() affichera 10 variables aléatoires strictement supérieur à 0.25\n",
        "\n",
        "def my_randNos(value):\n",
        "    new_nos = np.random.random_sample((value))\n",
        "    print(new_nos + 0.25)\n",
        "\n",
        "my_randNos(10)"
      ],
      "execution_count": 0,
      "outputs": [
        {
          "output_type": "stream",
          "text": [
            "[0.58363868 1.03049739 0.47310463 1.04639202 0.56189499 1.08528418\n",
            " 0.76930017 0.6177868  1.24800344 0.44839806]\n"
          ],
          "name": "stdout"
        }
      ]
    },
    {
      "cell_type": "code",
      "metadata": {
        "id": "hx8Ck-neqRZe",
        "colab_type": "code",
        "colab": {}
      },
      "source": [
        "# Mission 4 : Que fait la méthode np.empty() ? Il ne faut pas juste recopier la doc, mais l'expliquer en français\n",
        "\n",
        "\n"
      ],
      "execution_count": 0,
      "outputs": []
    },
    {
      "cell_type": "markdown",
      "metadata": {
        "id": "cW2XPabDQZmj",
        "colab_type": "text"
      },
      "source": [
        "La fonction empty () est utilisée pour créer un nouveau tableau de formes et de types donnés, sans initialiser les entrées."
      ]
    },
    {
      "cell_type": "code",
      "metadata": {
        "id": "q_BJsGjwqTQp",
        "colab_type": "code",
        "outputId": "17652718-596a-49ef-a266-4f25fc61ec4d",
        "colab": {
          "base_uri": "https://localhost:8080/",
          "height": 34
        }
      },
      "source": [
        "# Mission 5 : Créer un array rempli de 7 zéros de type float\n",
        "a = np.zeros(7)\n",
        "a"
      ],
      "execution_count": 0,
      "outputs": [
        {
          "output_type": "execute_result",
          "data": {
            "text/plain": [
              "array([0., 0., 0., 0., 0., 0., 0.])"
            ]
          },
          "metadata": {
            "tags": []
          },
          "execution_count": 47
        }
      ]
    },
    {
      "cell_type": "code",
      "metadata": {
        "id": "KhQZPyHhqUql",
        "colab_type": "code",
        "outputId": "02b97054-b1f2-4c73-9821-8f5b18beee7e",
        "colab": {
          "base_uri": "https://localhost:8080/",
          "height": 34
        }
      },
      "source": [
        "# Mission 6 : Créer un array rempli de 10 chiffres aléatoires de type int\n",
        "arr_new = np.random.randint(1, 10, 10)\n",
        "arr_new"
      ],
      "execution_count": 0,
      "outputs": [
        {
          "output_type": "execute_result",
          "data": {
            "text/plain": [
              "array([8, 7, 2, 4, 6, 3, 9, 6, 9, 6])"
            ]
          },
          "metadata": {
            "tags": []
          },
          "execution_count": 6
        }
      ]
    },
    {
      "cell_type": "code",
      "metadata": {
        "id": "v3vqX26BqWTo",
        "colab_type": "code",
        "outputId": "c2ddefa1-09e6-4d40-8e12-712265b650cd",
        "colab": {
          "base_uri": "https://localhost:8080/",
          "height": 84
        }
      },
      "source": [
        "# Mission 7 : Créer un array qui contiendra 70 valeurs choisi aléatoirement parmi les nombres : 0, 1, 2, 3, 4, 5, 6, 7\n",
        "arr_new1 = np.random.choice(np.array([0,1,2,3,4,5,6,7]), 70)\n",
        "\n",
        "arr_new1"
      ],
      "execution_count": 0,
      "outputs": [
        {
          "output_type": "execute_result",
          "data": {
            "text/plain": [
              "array([1, 2, 2, 3, 3, 7, 5, 6, 5, 5, 7, 1, 5, 4, 1, 3, 4, 0, 5, 6, 6, 4,\n",
              "       3, 2, 5, 5, 2, 4, 3, 4, 1, 4, 0, 1, 7, 1, 7, 6, 7, 4, 1, 4, 5, 6,\n",
              "       5, 7, 5, 4, 4, 2, 7, 1, 4, 2, 2, 6, 0, 7, 1, 5, 0, 1, 1, 6, 6, 4,\n",
              "       0, 6, 5, 0])"
            ]
          },
          "metadata": {
            "tags": []
          },
          "execution_count": 8
        }
      ]
    },
    {
      "cell_type": "code",
      "metadata": {
        "id": "Hii5gz9BqZf9",
        "colab_type": "code",
        "outputId": "2a720f7d-04c9-4aaa-a3a2-be274cf547bf",
        "colab": {
          "base_uri": "https://localhost:8080/",
          "height": 34
        }
      },
      "source": [
        "# Mission 8 : Utilise l'opérateur de sciling pour accéder aux éléments entre la position 3 et 6 inclus de la mission 6\n",
        "\n",
        "s_arr = arr_new[3:7]\n",
        "s_arr"
      ],
      "execution_count": 0,
      "outputs": [
        {
          "output_type": "execute_result",
          "data": {
            "text/plain": [
              "array([5, 6, 8, 9])"
            ]
          },
          "metadata": {
            "tags": []
          },
          "execution_count": 167
        }
      ]
    },
    {
      "cell_type": "code",
      "metadata": {
        "id": "lv-cIYMMqc0s",
        "colab_type": "code",
        "outputId": "7370ac30-98b3-4d43-f10f-e66d59e9afe0",
        "colab": {
          "base_uri": "https://localhost:8080/",
          "height": 34
        }
      },
      "source": [
        "# Mission 9 : Utilise une méthode pour renvoyer l'index de l'élément minimum de l'array de la mission 7\n",
        "arr_new2 = np.argmin(arr_new1) #argmin is to find the index of the lowest value\n",
        "arr_new2"
      ],
      "execution_count": 0,
      "outputs": [
        {
          "output_type": "execute_result",
          "data": {
            "text/plain": [
              "17"
            ]
          },
          "metadata": {
            "tags": []
          },
          "execution_count": 13
        }
      ]
    },
    {
      "cell_type": "code",
      "metadata": {
        "id": "OnXTuji0t46s",
        "colab_type": "code",
        "outputId": "d5a7c219-9c88-4137-ce16-7fd8ded8b652",
        "colab": {
          "base_uri": "https://localhost:8080/",
          "height": 34
        }
      },
      "source": [
        "# Mission 10 : En utilisant une méthode numpy, renvoie les index des valeurs supérieurs à la valeur mediane de l'array de la mission 6\n",
        "arr_median = np.median(arr_new)\n",
        "arr_median\n",
        "\n"
      ],
      "execution_count": 0,
      "outputs": [
        {
          "output_type": "execute_result",
          "data": {
            "text/plain": [
              "6.0"
            ]
          },
          "metadata": {
            "tags": []
          },
          "execution_count": 15
        }
      ]
    },
    {
      "cell_type": "code",
      "metadata": {
        "id": "t6hvPTB4hm6k",
        "colab_type": "code",
        "outputId": "dd4a533c-9953-4f62-acba-a072ccdcead0",
        "colab": {
          "base_uri": "https://localhost:8080/",
          "height": 34
        }
      },
      "source": [
        "#result = np.where(arr_new > arr_median)\n",
        "\n",
        "#result[0]\n",
        "\n",
        "print(np.where(arr_new > arr_median))"
      ],
      "execution_count": 0,
      "outputs": [
        {
          "output_type": "stream",
          "text": [
            "(array([0, 1, 6, 8]),)\n"
          ],
          "name": "stdout"
        }
      ]
    },
    {
      "cell_type": "code",
      "metadata": {
        "id": "Ljy8t0yvqha5",
        "colab_type": "code",
        "outputId": "edadcb8a-64bb-4171-cda3-6a14bf2cdaac",
        "colab": {
          "base_uri": "https://localhost:8080/",
          "height": 269
        }
      },
      "source": [
        "# Mission 11 : Après avoir créé 3 arrays remplie de int aléatoirement, que tu placeras dans un array\n",
        "# Créer une fonction qui va parcourir tour à tour les éléments des 3 arrays.\n",
        "# Cela donnera : Élément 1 de l'array 1, 2 et 3. Élement 2 de l'array 1, 2 et 3...\n",
        "\n",
        "arr1 = np.random.randint(6, size = 4)\n",
        "arr2 = np.random.randint(8,size =4)\n",
        "arr3 = np.random.randint(10,size = 4)\n",
        "\n",
        "print(arr1)\n",
        "print(arr2)\n",
        "print(arr3)\n",
        "\n",
        "fin_arr = np.array([arr1, arr2, arr3])\n",
        "\n",
        "def arr_funct1(fin_arr):\n",
        " \n",
        "  for i in range(len(fin_arr)):\n",
        "    #print(fin_arr[i][0])\n",
        "    #print(fin_arr[i][1])\n",
        "    #print(fin_arr[i][2])\n",
        "    #print(fin_arr[i][3])\n",
        "    for j in range(len(fin_arr[i])):\n",
        "      print(fin_arr[i][j])\n",
        "          \n",
        "arr_funct1(fin_arr)\n",
        "   \n",
        "    "
      ],
      "execution_count": 0,
      "outputs": [
        {
          "output_type": "stream",
          "text": [
            "[1 3 3 3]\n",
            "[3 1 5 1]\n",
            "[0 7 3 0]\n",
            "1\n",
            "3\n",
            "3\n",
            "3\n",
            "3\n",
            "1\n",
            "5\n",
            "1\n",
            "0\n",
            "7\n",
            "3\n",
            "0\n"
          ],
          "name": "stdout"
        }
      ]
    },
    {
      "cell_type": "code",
      "metadata": {
        "id": "I-Ecqv-Gqigx",
        "colab_type": "code",
        "outputId": "ad67fa5b-b40b-41a1-cb59-74aa18603674",
        "colab": {
          "base_uri": "https://localhost:8080/",
          "height": 50
        }
      },
      "source": [
        "# Mission 12 : Créer un array et remplie le de 20 valeurs aléatoires de type float.\n",
        "# Créer une fonction qui va parcourir le tableau et indiquer la valeur la plus petite et la plus grande du tableau.\n",
        "\n",
        "arr_fl = np.random.rand(20)\n",
        "\n",
        "def fun_Maxmini(arr_fl):\n",
        "  \n",
        "  print(np.min(arr_fl))\n",
        "  print(np.max(arr_fl))\n",
        " \n",
        "fun_Maxmini(arr_fl)"
      ],
      "execution_count": 0,
      "outputs": [
        {
          "output_type": "stream",
          "text": [
            "0.0440401061405612\n",
            "0.9613768644878355\n"
          ],
          "name": "stdout"
        }
      ]
    },
    {
      "cell_type": "code",
      "metadata": {
        "id": "6Q31D-P0qk14",
        "colab_type": "code",
        "outputId": "cd0c6c35-239f-4491-d4ad-c40d51098682",
        "colab": {
          "base_uri": "https://localhost:8080/",
          "height": 101
        }
      },
      "source": [
        "# Mission 13 : Créer 2 arrays, remplie les aléatoirement de 20 valeurs de type int compris entre 0 et 10.\n",
        "# Créer une fonction qui va parcourir chaque array avec une boucle while.\n",
        "# A chaque tour de boucle la fonction va comparer les valeurs des 2 arrays situé à la même position\n",
        "# dans le but de renvoyer l'indice à laquelle les valeurs des 2 arrays sont égales.\n",
        "# Si aucune valeur n'est égale à la même position dans les 2 arrays, renvoyer le message : .\n",
        "\n",
        "arr1 = np.random.randint(0, 10, size = 20)\n",
        "arr2 = np.random.randint(0, 10, size = 20)\n",
        "print(arr1)\n",
        "print(arr2)\n",
        "def fun_loop(arr1, arr2):\n",
        "  find = False\n",
        "  i = 0\n",
        "  while i <= 19:\n",
        "    if arr1[i] == arr2[i]:\n",
        "        find = True\n",
        "        print(i)     \n",
        "    i += 1\n",
        "    \n",
        "  if not find:\n",
        "    print(\"Aucune valeur en commun\")\n",
        "    \n",
        "fun_loop(arr1, arr2)"
      ],
      "execution_count": 0,
      "outputs": [
        {
          "output_type": "stream",
          "text": [
            "[5 6 0 2 9 4 8 5 6 2 8 5 0 0 6 8 0 4 9 6]\n",
            "[7 7 0 0 3 0 1 6 1 1 8 8 5 4 6 9 9 7 5 4]\n",
            "2\n",
            "10\n",
            "14\n"
          ],
          "name": "stdout"
        }
      ]
    }
  ]
}